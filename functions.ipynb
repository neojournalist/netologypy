{
 "cells": [
  {
   "cell_type": "markdown",
   "metadata": {},
   "source": [
    "Вы работаете секретарем и вам постоянно приходят различные документы. Вы должны быть очень внимательны, чтобы не потерять ни один документ. Каталог документов хранится в следующем виде:"
   ]
  },
  {
   "cell_type": "code",
   "execution_count": 48,
   "metadata": {},
   "outputs": [],
   "source": [
    "documents = [\n",
    "    {'type': 'passport', 'number': '2207 876234', 'name': 'Василий Гупкин'},\n",
    "    {'type': 'invoice', 'number': '11-2', 'name': 'Геннадий Покемонов'},\n",
    "    {'type': 'insurance', 'number': '10006', 'name': 'Аристарх Павлов'}\n",
    "]\n",
    "\n"
   ]
  },
  {
   "cell_type": "code",
   "execution_count": 114,
   "metadata": {},
   "outputs": [
    {
     "name": "stdout",
     "output_type": "stream",
     "text": [
      "Введите номер документа: 11-2\n"
     ]
    },
    {
     "data": {
      "text/plain": [
       "'Геннадий Покемонов'"
      ]
     },
     "execution_count": 114,
     "metadata": {},
     "output_type": "execute_result"
    }
   ],
   "source": [
    "def people(documents):\n",
    "    user_doc = input('Введите номер документа: ')\n",
    "    for doc in documents:\n",
    "        if user_doc == doc['number']:\n",
    "            return doc['name']\n",
    "    return'Документа не существует'\n",
    "    \n",
    "people(documents)"
   ]
  },
  {
   "cell_type": "code",
   "execution_count": 80,
   "metadata": {},
   "outputs": [
    {
     "name": "stdout",
     "output_type": "stream",
     "text": [
      "1 ['2207 876234', '11-2']\n",
      "2 ['10006']\n",
      "3 []\n"
     ]
    }
   ],
   "source": [
    "directories = {\n",
    "    '1': ['2207 876234', '11-2'],\n",
    "    '2': ['10006'],\n",
    "    '3': []\n",
    "}\n",
    "\n",
    "input_shelf = 2\n",
    "user_doc = 10006\n",
    "\n",
    "for shelf, doc in directories.items():\n",
    "    print(shelf, doc)"
   ]
  },
  {
   "cell_type": "code",
   "execution_count": 23,
   "metadata": {},
   "outputs": [
    {
     "name": "stdout",
     "output_type": "stream",
     "text": [
      "Введите номер документа: шге5ш49\n"
     ]
    },
    {
     "data": {
      "text/plain": [
       "'Документа не существует'"
      ]
     },
     "execution_count": 23,
     "metadata": {},
     "output_type": "execute_result"
    }
   ],
   "source": [
    "#- s – shelf – команда, которая спросит номер документа и выведет номер полки, на которой он находится  \n",
    "#*Правильно обработайте ситуации, когда пользователь будет вводить несуществующий документ*.\n",
    "\n",
    "\n",
    "def shelf(directories):\n",
    "    user_doc = input('Введите номер документа: ')\n",
    "    for user_shelf, doc in directories.items():\n",
    "#        print(user_shelf)\n",
    "#        print(doc)\n",
    "        if user_doc in doc:\n",
    "            return user_shelf\n",
    "    return 'Документа не существует'\n",
    "\n",
    "shelf(directories)"
   ]
  },
  {
   "cell_type": "code",
   "execution_count": 8,
   "metadata": {},
   "outputs": [
    {
     "data": {
      "text/plain": [
       "dict_values(['passport', '2207 876234', 'Василий Гупкин'])"
      ]
     },
     "execution_count": 8,
     "metadata": {},
     "output_type": "execute_result"
    }
   ],
   "source": [
    "def l_list(documents):\n",
    "    for listing in documents:\n",
    "        return listing.values()\n",
    "\n",
    "l_list(documents)"
   ]
  },
  {
   "cell_type": "code",
   "execution_count": 31,
   "metadata": {},
   "outputs": [
    {
     "name": "stdout",
     "output_type": "stream",
     "text": [
      "Введите новый номер полки: 1\n"
     ]
    },
    {
     "data": {
      "text/plain": [
       "'Полка уже существует'"
      ]
     },
     "execution_count": 31,
     "metadata": {},
     "output_type": "execute_result"
    }
   ],
   "source": [
    "def add_shelf(directories):\n",
    "    new_shelf = int(input('Введите новый номер полки: '))\n",
    "    if new_shelf not in directories.keys():\n",
    "        directories[new_shelf] = []\n",
    "    else:\n",
    "        return 'Полка уже существует'\n",
    "\n",
    "add_shelf(directories)"
   ]
  },
  {
   "cell_type": "code",
   "execution_count": 51,
   "metadata": {},
   "outputs": [
    {
     "name": "stdout",
     "output_type": "stream",
     "text": [
      "Введите номер документа: r435\n"
     ]
    },
    {
     "data": {
      "text/plain": [
       "'Документа не существует'"
      ]
     },
     "execution_count": 51,
     "metadata": {},
     "output_type": "execute_result"
    }
   ],
   "source": [
    "#- d – delete – команда, которая спросит номер документа и удалит его из каталога и из перечня полок. \n",
    "#*Предусмотрите сценарий, когда пользователь вводит несуществующий документ*;\n",
    "\n",
    "def delete():\n",
    "    user_doc = input('Введите номер документа: ')\n",
    "    for el in documents:\n",
    "        if user_doc == el['number']:\n",
    "            del(documents[documents.index(el)])\n",
    "    for value in directories.items():\n",
    "        if user_doc in value:\n",
    "            value.remove(user_doc)\n",
    "    return 'Документа не существует'\n",
    "\n",
    "delete()"
   ]
  },
  {
   "cell_type": "code",
   "execution_count": 101,
   "metadata": {},
   "outputs": [
    {
     "name": "stdout",
     "output_type": "stream",
     "text": [
      "Введите номер документа: 11-2\n",
      "Полка для перемещения: 2\n",
      "{'1': ['2207 876234', '11-2'], '2': ['10006'], '3': [[]]}\n"
     ]
    }
   ],
   "source": [
    "#- m – move – команда, которая спросит номер документа и целевую полку и переместит его с текущей полки на целевую. \n",
    "#*Корректно обработайте кейсы, когда пользователь пытается переместить несуществующий документ или переместить документ на несуществующую полку*;  \n",
    "\n",
    "def move():\n",
    "    user_doc = input('Введите номер документа: ')\n",
    "    input_shelf = input('Полка для перемещения: ')\n",
    "    for shelf, doc in directories.items():\n",
    "        if shelf == input_shelf and user_doc in doc:\n",
    "            return directories.update({(shelf):[doc]})         \n",
    "            return 'Ошибка'\n",
    "        \n",
    "move()        \n",
    "   \n",
    "    "
   ]
  },
  {
   "cell_type": "code",
   "execution_count": null,
   "metadata": {},
   "outputs": [],
   "source": [
    "#- a – add – команда, которая добавит новый документ в каталог и в перечень полок, спросив его номер, тип, имя владельца и номер полки, на котором он будет храниться. \n",
    "#*Корректно обработайте ситуацию, когда пользователь будет пытаться добавить документ на несуществующую полку*.\n",
    "\n",
    "def add():\n",
    "    user_doc = input('Введите номер документа: ')\n",
    "    doc_type = input('Тип документа: ')\n",
    "    doc_name = input('Имя владельца: ')\n",
    "    doc_shelf = input('Номер полки: ')\n",
    "    if doc_shelf in directories.keys():\n",
    "        directories.append({(doc_shelf):[user_doc]})\n",
    "        return 'Полка уже существует'\n",
    "        for el in documents:\n",
    "            return documents.append({'type': doc_type, 'number': user_doc, 'name': doc_name})\n",
    "\n",
    "        \n",
    "    \n",
    "#add()  \n",
    "print(directories)\n",
    "print(documents)"
   ]
  },
  {
   "cell_type": "markdown",
   "metadata": {},
   "source": [
    "Перечень полок, на которых находятся документы хранится в следующем виде:"
   ]
  },
  {
   "cell_type": "code",
   "execution_count": null,
   "metadata": {},
   "outputs": [],
   "source": [
    "def main():\n",
    "    user_input = input('Введите команду: ')\n",
    "    if user_input == 'p':\n",
    "        people(documents)\n",
    "    elif user_input == 's':\n",
    "        shelf(directories)\n",
    "    elif user_input == 'l':\n",
    "        l_list(documents)\n",
    "    elif user_input == 'as':\n",
    "        add_shelf(directories)\n",
    "    elif user_input == 'd':\n",
    "        delete()\n",
    "    elif user_input == 'm':\n",
    "        move()\n",
    "    elif user_input == 'a':\n",
    "        add()\n",
    "    else:\n",
    "        break"
   ]
  },
  {
   "cell_type": "code",
   "execution_count": 2,
   "metadata": {},
   "outputs": [
    {
     "ename": "SyntaxError",
     "evalue": "invalid syntax (<ipython-input-2-13b0a78b078a>, line 7)",
     "output_type": "error",
     "traceback": [
      "\u001b[0;36m  File \u001b[0;32m\"<ipython-input-2-13b0a78b078a>\"\u001b[0;36m, line \u001b[0;32m7\u001b[0m\n\u001b[0;31m    def shelf\u001b[0m\n\u001b[0m             ^\u001b[0m\n\u001b[0;31mSyntaxError\u001b[0m\u001b[0;31m:\u001b[0m invalid syntax\n"
     ]
    }
   ],
   "source": [
    "def people(documents):\n",
    "\n",
    "def shelf\n",
    "\n",
    "def l_list\n",
    "\n",
    "def add_shelf\n",
    "\n",
    "def delete \n",
    "\n",
    "def move\n",
    "\n",
    "def add "
   ]
  },
  {
   "cell_type": "markdown",
   "metadata": {},
   "source": [
    "Необходимо реализовать пользовательские команды (внимание! это не название функций, которые должны быть выразительными, а команды, которые вводит пользователь, чтобы получить необходимый результат):\n",
    "  \n",
    "- p – people – команда, которая спросит номер документа и выведет имя человека, которому он принадлежит;  \n",
    "- s – shelf – команда, которая спросит номер документа и выведет номер полки, на которой он находится  \n",
    "*Правильно обработайте ситуации, когда пользователь будет вводить несуществующий документ*.\n",
    "- l – list – команда, которая выведет список всех документов в формате   \n",
    "**passport \"2207 876234\" \"Василий Гупкин\"**  \n",
    "- as – add shelf – команда, которая спросит номер новой полки и добавит ее в перечень. *Предусмотрите случай, когда пользователь добавляет полку, которая уже существует*.\n",
    "- d – delete – команда, которая спросит номер документа и удалит его из каталога и из перечня полок. *Предусмотрите сценарий, когда пользователь вводит несуществующий документ*;  \n",
    "- m – move – команда, которая спросит номер документа и целевую полку и переместит его с текущей полки на целевую. *Корректно обработайте кейсы, когда пользователь пытается переместить несуществующий документ или переместить документ на несуществующую полку*;  \n",
    "- a – add – команда, которая добавит новый документ в каталог и в перечень полок, спросив его номер, тип, имя владельца и номер полки, на котором он будет храниться. *Корректно обработайте ситуацию, когда пользователь будет пытаться добавить документ на несуществующую полку*."
   ]
  }
 ],
 "metadata": {
  "kernelspec": {
   "display_name": "Python 3",
   "language": "python",
   "name": "python3"
  },
  "language_info": {
   "codemirror_mode": {
    "name": "ipython",
    "version": 3
   },
   "file_extension": ".py",
   "mimetype": "text/x-python",
   "name": "python",
   "nbconvert_exporter": "python",
   "pygments_lexer": "ipython3",
   "version": "3.7.6"
  }
 },
 "nbformat": 4,
 "nbformat_minor": 2
}
